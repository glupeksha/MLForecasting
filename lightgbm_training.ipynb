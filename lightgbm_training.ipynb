{
 "cells": [
  {
   "cell_type": "code",
   "execution_count": 1,
   "metadata": {},
   "outputs": [
    {
     "name": "stdout",
     "output_type": "stream",
     "text": [
      "loading training data...\n"
     ]
    }
   ],
   "source": [
    "import lightgbm as lgb\n",
    "import pandas as pd\n",
    "import os\n",
    "import matplotlib.pyplot as plt\n",
    "print(\"loading training data...\")\n",
    "data_path = 'data/'\n",
    "dataframes_path = 'dataframes/'\n",
    "\n",
    "#get DataFrames\n",
    "all_data = pd.read_pickle(os.path.join(dataframes_path, 'saleswith12lags1.pickle'))[:10000]\n",
    "#all_data2 = pd.read_pickle(os.path.join(dataframes_path, 'saleswith12lags2.pickle'))\n",
    "#all_data3 = pd.read_pickle(os.path.join(dataframes_path, 'saleswith12lags3.pickle'))\n",
    "\n",
    "#all_data=pd.concat([all_data1,all_data2,all_data3], ignore_index=True)\n",
    "#del all_data1,all_data2,all_data3\n",
    "\n",
    "all_data = all_data.reset_index().drop('index',axis=1)"
   ]
  },
  {
   "cell_type": "code",
   "execution_count": 2,
   "metadata": {},
   "outputs": [
    {
     "name": "stdout",
     "output_type": "stream",
     "text": [
      "spliting training data into X,y...\n"
     ]
    }
   ],
   "source": [
    "print(\"spliting training data into X,y...\")\n",
    "X = all_data.drop(['item_cnt_month','date',],axis=1)\n",
    "y = all_data.item_cnt_month.values\n",
    "X.drop('date_block_num',axis=1,inplace=True)"
   ]
  },
  {
   "cell_type": "code",
   "execution_count": 3,
   "metadata": {},
   "outputs": [
    {
     "name": "stdout",
     "output_type": "stream",
     "text": [
      "Start training the model..\n",
      "[1]\tvalid_0's rmse: 7.38321\n",
      "[2]\tvalid_0's rmse: 7.09354\n",
      "[3]\tvalid_0's rmse: 6.78881\n",
      "[4]\tvalid_0's rmse: 6.50362\n",
      "[5]\tvalid_0's rmse: 6.23621\n",
      "[6]\tvalid_0's rmse: 5.95718\n",
      "[7]\tvalid_0's rmse: 5.69609\n",
      "[8]\tvalid_0's rmse: 5.47742\n",
      "[9]\tvalid_0's rmse: 5.2496\n",
      "[10]\tvalid_0's rmse: 5.04862\n"
     ]
    },
    {
     "data": {
      "text/plain": [
       "{'valid_0': defaultdict(list,\n",
       "             {'rmse': [7.383214738130868,\n",
       "               7.0935357433939545,\n",
       "               6.788812216710374,\n",
       "               6.503615343013043,\n",
       "               6.236210186301284,\n",
       "               5.957179473834055,\n",
       "               5.6960914951469555,\n",
       "               5.477422315573143,\n",
       "               5.249598144725484,\n",
       "               5.0486230645504175]})}"
      ]
     },
     "execution_count": 3,
     "metadata": {},
     "output_type": "execute_result"
    }
   ],
   "source": [
    "lgb_params = {\n",
    "    'objective':'regression',\n",
    "    'metric':'rmse',\n",
    "    'learning_rate':0.05,\n",
    "    'colsample_bytree':0.75,\n",
    "    'min_data_in_leaf':64,\n",
    "    'subsample':0.75,\n",
    "    'bagging_seed':64,\n",
    "    'num_leaves':64,\n",
    "    'bagging_freq':1,\n",
    "    'seed':1204\n",
    "}\n",
    "\n",
    "evals_result = {}\n",
    "print(\"Start training the model..\")\n",
    "lgb_model = lgb.train(params=lgb_params,train_set=lgb.Dataset(X,label=y),num_boost_round=10,valid_sets=lgb.Dataset(X,label=y),evals_result=evals_result)\n",
    "evals_result"
   ]
  },
  {
   "cell_type": "code",
   "execution_count": null,
   "metadata": {},
   "outputs": [],
   "source": [
    "print(\"plot matricx recorded during training..\")\n",
    "ax=lgb.plot_tree(booster=evals_result)\n",
    "plt.show()\n",
    "\n",
    "print(\"plot feature importance..\")\n",
    "#ax=lgb.plot_importance(gbm)\n",
    "#plt.show()\n"
   ]
  },
  {
   "cell_type": "code",
   "execution_count": null,
   "metadata": {},
   "outputs": [],
   "source": []
  }
 ],
 "metadata": {
  "kernelspec": {
   "display_name": "Python 3",
   "language": "python",
   "name": "python3"
  },
  "language_info": {
   "codemirror_mode": {
    "name": "ipython",
    "version": 3
   },
   "file_extension": ".py",
   "mimetype": "text/x-python",
   "name": "python",
   "nbconvert_exporter": "python",
   "pygments_lexer": "ipython3",
   "version": "3.6.6"
  }
 },
 "nbformat": 4,
 "nbformat_minor": 2
}
